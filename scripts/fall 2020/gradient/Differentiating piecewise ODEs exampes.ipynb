{
 "cells": [
  {
   "cell_type": "markdown",
   "metadata": {},
   "source": [
    "# NOTE \n",
    "This notebook uses interactive examples - you'll need ipympl for the interactive plots to work. To install it: <br>\n",
    "pip install ipympl <br>\n",
    "There is also a 3 minute youtube video showing a real example which isn't included in this notebook. <br>\n",
    "https://www.youtube.com/watch?v=fJ5YznNWPyE"
   ]
  },
  {
   "cell_type": "code",
   "execution_count": 1,
   "metadata": {},
   "outputs": [],
   "source": [
    "import matplotlib.pyplot as plt\n",
    "from matplotlib.widgets import Slider\n",
    "import matplotlib.gridspec as gridspec\n",
    "import numpy as np\n",
    "import math\n",
    "%matplotlib widget"
   ]
  },
  {
   "cell_type": "markdown",
   "metadata": {},
   "source": [
    "## Toy Example 1 \n",
    "Consider the following piecewise ODE with a state dependent switching condition\n",
    "$$\\dot x = \\begin{cases} p & x \\leq 0 \\\\ -1 & x > 0 \\end{cases} \n",
    " \\\\ x(0) = 0\n",
    "$$\n",
    "\n",
    "Where $p > 0$ is a model parameter. For the continuous system, there is no solution - $x(t)$ is switching between regimes arbitrarily fast, so there is no function which can satisfy the ODE in a classical sense. \n",
    "\n",
    "We can still study the discrete system though -\n",
    "$$x_{i+1} = \\begin{cases} \n",
    " x_i + p & x \\leq 0 \\\\ \n",
    "  x_i - 1 & x > 0 \\\\ \n",
    "  \\end{cases}$$\n",
    "  \n",
    "For this example, and the rest of the examples, we take the loss function $f(x)$ to be $\\sum_i x_i$ for a discrete system and $\\int_t x(t)$ for a continuous system.\n",
    "\n",
    "The following code block will plot the system state $x_i$, the objective $f(x)$, and gradient $df/dp$. Try moving the slider to set the parameter value, and see how the objective/gradient are influenced."
   ]
  },
  {
   "cell_type": "code",
   "execution_count": 6,
   "metadata": {
    "scrolled": false
   },
   "outputs": [
    {
     "data": {
      "application/vnd.jupyter.widget-view+json": {
       "model_id": "668ab1fbade04285bfcd8c90ba699f9e",
       "version_major": 2,
       "version_minor": 0
      },
      "text/plain": [
       "Canvas(toolbar=Toolbar(toolitems=[('Home', 'Reset original view', 'home', 'home'), ('Back', 'Back to previous …"
      ]
     },
     "metadata": {},
     "output_type": "display_data"
    },
    {
     "data": {
      "text/plain": [
       "0"
      ]
     },
     "execution_count": 6,
     "metadata": {},
     "output_type": "execute_result"
    }
   ],
   "source": [
    "timesteps = 20\n",
    "prange = (.4,1.6)\n",
    "\n",
    "def fun(x, p):\n",
    "    return p if x <= 0 else -1\n",
    "\n",
    "def solution(p, timesteps=timesteps):\n",
    "    x = 0\n",
    "    out = [x]\n",
    "    for i in range(timesteps):\n",
    "        x = x + fun(x, p)\n",
    "        out.append(x)\n",
    "    return out\n",
    "\n",
    "def objective(out):\n",
    "    return sum(out)\n",
    "\n",
    "def obj_and_grad(p):\n",
    "    obj = objective(solution(p))\n",
    "    return obj, (objective(solution(p+1e-8))-obj)/1e-8\n",
    "\n",
    "gs = gridspec.GridSpec(2,2)\n",
    "fig = plt.figure(figsize=(10,10))\n",
    "ax = plt.subplot(gs[0,:])\n",
    "ax2, ax3 = plt.subplot(gs[1,0]), plt.subplot(gs[1,1])\n",
    "plt.subplots_adjust(bottom = .2)\n",
    "x2 = np.linspace(prange[0], prange[1], 10000)\n",
    "objlist = []\n",
    "gradlist = []\n",
    "for p in x2:\n",
    "    obj, grad = obj_and_grad(p)\n",
    "    objlist.append(obj)\n",
    "    gradlist.append(grad)\n",
    "obj, grad = obj_and_grad(.99)\n",
    "x = list(range(timesteps))\n",
    "out = solution(.99)\n",
    "artist, = ax.plot(out)\n",
    "ax.plot((0, timesteps), (0, 0))\n",
    "artist2, = ax.plot(x, out[:-1], 'k.')\n",
    "ax2.plot(x2, objlist, 'k.', markersize=2)\n",
    "ax3.plot(x2, gradlist, 'k.', markersize=2)\n",
    "artist3, = ax2.plot(.99, obj, 'r.')\n",
    "artist4, = ax3.plot(.99, grad, 'r.')\n",
    "ax2.set_ylabel('objective')\n",
    "ax3.set_ylabel('gradient')\n",
    "ax3.set_ylim([50, 150])\n",
    "ax.set_ylim([-1, prange[1]+.1])\n",
    "ax.set_ylabel('x(t)')\n",
    "ax.set_xlabel('t')\n",
    "ax.set_xticks(list(range(5,timesteps+1,5)))\n",
    "ax.set_xlabel\n",
    "axp = plt.axes([.15, 0.1, 0.65, 0.03])\n",
    "\n",
    "def update(val):\n",
    "    out = solution(val)\n",
    "    artist.set_ydata(out)\n",
    "    artist2.set_ydata(out[:-1])\n",
    "    obj, grad = obj_and_grad(val)\n",
    "    artist3.set_xdata(val)\n",
    "    artist4.set_xdata(val)\n",
    "    artist3.set_ydata(obj)\n",
    "    artist4.set_ydata(grad)\n",
    "    fig.canvas.draw_idle()\n",
    "\n",
    "p_values = Slider(axp, 'p', prange[0], prange[1], valfmt='%.9f', valinit=.99)\n",
    "p_values.on_changed(update)"
   ]
  },
  {
   "cell_type": "markdown",
   "metadata": {},
   "source": [
    "The black dots are the actual discrete times. The orange line is the switching condition; if the current timestep is below it, then we are in the first regime and move up by $p$. Otherwise, we move down by $-1$.\n",
    "\n",
    "From the theorem, we know that on the interval $ p \\in (.9, 1)$, the objective will be lipschitz continuous, because all the timesteps stay in the same regime. At $p=.9$, the timestep 20 flips regimes (i.e. it changes from up to down). This causes a discontinuity in both the gradient and objective, since both $h$ and its partial derivatives have discontinuities. At $p=1$, 10 timesteps (1, 3, 5, ... 19) flip regimes, resulting in a much larger discontinuity. Between $(.9, 1)$, even though the model is continuously switching between regimes (up, down, up, down), the objective is actually continuous, because each timestep stays in the same regime as long as $p \\in (.9, 1)$.\n",
    "\n",
    "Overall, we see a striated pattern, where we have many intervals where the objective is lipschitz continuous. At the ends of these intervals, we have values of $p$ which cause the switching times $\\theta_j(p)$ to change. This striated pattern is canonical to discretized, state/parameter dependent piecewise DEs. An interesting observation is that the size of the discontinuity is proportional to the number of timesteps that flip. When only 1 timestep flips (e.g. at $p=.9$), the disconinuity is much smaller compared to when 2, 3, 6, or 10 timesteps flip (e.g. at $p = 3/4, 2/3, 1/2, 1$, respectively). \n",
    "\n",
    "You can tell from the objective that this system would be difficult to optimize with gradient based optimization. "
   ]
  },
  {
   "cell_type": "markdown",
   "metadata": {},
   "source": [
    "## Toy Example 2\n",
    "$$ \\ddot x = \\begin{cases} \n",
    " -x & x < p \\\\ \n",
    "  0 & x \\geq p \\\\ \n",
    "  \\end{cases}\n",
    " \\\\ x(0) = 0 \\ \\ \\ \\dot x(0) = 2\n",
    "  $$\n",
    "First, recall that if this didn't multiple regimes, and we just had $$\\ddot x = -x$$, this is simply a simple harmonic oscillator, and $x(t)$ is just a sin wave. For this model, when we hit the switching condition $x(t) = p$, we freeze the acceleration, and keep moving with whatever speed we had.\n",
    "Because the model is simple, in this case we can actually solve for the closed form solution. \n",
    "$$ x(t) = \\begin{cases} \n",
    " 2 \\sin(t) & t < t^* \\\\ \n",
    "  p + 2\\cos(t^*) ( t - t^* ) & t \\geq t^* \\\\\n",
    "  \\end{cases} \\\\\n",
    "  \\text{where } t^* = \\arcsin(p/2)\n",
    "$$\n",
    "The code block below plots the continuous system."
   ]
  },
  {
   "cell_type": "code",
   "execution_count": 3,
   "metadata": {},
   "outputs": [
    {
     "data": {
      "application/vnd.jupyter.widget-view+json": {
       "model_id": "27ca9e6d789240439b9bac3a02838867",
       "version_major": 2,
       "version_minor": 0
      },
      "text/plain": [
       "Canvas(toolbar=Toolbar(toolitems=[('Home', 'Reset original view', 'home', 'home'), ('Back', 'Back to previous …"
      ]
     },
     "metadata": {},
     "output_type": "display_data"
    },
    {
     "data": {
      "text/plain": [
       "0"
      ]
     },
     "execution_count": 3,
     "metadata": {},
     "output_type": "execute_result"
    }
   ],
   "source": [
    "prange = (.5, 2)\n",
    "pinit = 1.99\n",
    "def solution(p):\n",
    "    if p > 2:\n",
    "        x = np.linspace(0, 2*math.pi, 1000)\n",
    "        y = 2*np.sin(x)\n",
    "        return x, y\n",
    "    point = math.asin(p/2)\n",
    "    x1 = np.linspace(0, point, 1000)\n",
    "    x2 = np.linspace(point, 2*math.pi, 1000)\n",
    "    y1 = 2*np.sin(x1)\n",
    "    y2 = p + 2*math.cos(point)*(x2 - point)\n",
    "    x = np.append(x1, x2, axis=0)\n",
    "    y = np.append(y1, y2, axis=0)\n",
    "    return x, y\n",
    "\n",
    "def obj_and_grad(p):\n",
    "    if p <=2:\n",
    "        star = math.asin(p/2)\n",
    "        obj = 2 - 2*math.cos(star) +(2*math.pi-star)*(p-2*math.cos(star)*star)+math.cos(star)*(4*math.pi**2-star**2)\n",
    "    else:\n",
    "        obj = 0\n",
    "    if p == 2:\n",
    "        grad = math.nan\n",
    "    elif p > 2:\n",
    "        grad = 0\n",
    "    else:\n",
    "        ds = 1/2/(1-p**2/4)**.5\n",
    "        grad = 2*math.sin(star)*ds + -ds*(p-2*math.cos(star)*star) + (2*math.pi-star)*(2*math.sin(star)*star*ds+1-2*math.cos(star)*ds) \\\n",
    "            -math.sin(star)*ds*(4*math.pi**2-star**2)+math.cos(star)*2*star*ds\n",
    "    return obj, grad\n",
    "\n",
    "gs = gridspec.GridSpec(2,2)\n",
    "fig = plt.figure(figsize=(10,10))\n",
    "ax = plt.subplot(gs[0,:])\n",
    "ax2, ax3 = plt.subplot(gs[1,0]), plt.subplot(gs[1,1])\n",
    "plt.subplots_adjust(bottom = .2)\n",
    "x2 = np.linspace(prange[0], prange[1], 10000)\n",
    "objlist = []\n",
    "gradlist = []\n",
    "for p in x2:\n",
    "    obj, grad = obj_and_grad(p)\n",
    "    objlist.append(obj)\n",
    "    gradlist.append(grad)\n",
    "obj, grad = obj_and_grad(pinit)\n",
    "x, out = solution(pinit)\n",
    "artist, = ax.plot(x, out)\n",
    "artist2, = ax.plot((0, 2*math.pi), (pinit, pinit), 'C0--', linewidth=1, alpha=.2)\n",
    "ax2.plot(x2, objlist)\n",
    "ax3.plot(x2, gradlist)\n",
    "artist3, = ax2.plot(pinit, obj, 'r.')\n",
    "artist4, = ax3.plot(pinit, grad, 'r.')\n",
    "ax2.set_ylabel('objective')\n",
    "ax3.set_ylabel('gradient')\n",
    "ax.set_ylabel('x(t)')\n",
    "ax.set_xlabel('t')\n",
    "ax.set_ylim([-2,10])\n",
    "ax3.set_ylim([-200,10])\n",
    "axp = plt.axes([.15, 0.1, 0.65, 0.03])\n",
    "\n",
    "def update(val):\n",
    "    x, y = solution(val)\n",
    "    artist.set_xdata(x)\n",
    "    artist.set_ydata(y)\n",
    "    artist2.set_ydata((val, val))\n",
    "    obj, grad = obj_and_grad(val)\n",
    "    artist3.set_xdata(val)\n",
    "    artist4.set_xdata(val)\n",
    "    artist3.set_ydata(obj)\n",
    "    artist4.set_ydata(grad)\n",
    "    fig.canvas.draw_idle()\n",
    "\n",
    "p_values = Slider(axp, 'p', prange[0], prange[1]+.2, valfmt='%.9f', valinit=pinit)\n",
    "p_values.on_changed(update)"
   ]
  },
  {
   "cell_type": "markdown",
   "metadata": {},
   "source": [
    "In this case, we know from the theorem that in the interval $p \\in [0, 2-\\epsilon]$ that the objective is lipschitz continuous. At $p=2$, the theorem is violated since all the times past $\\pi /2$ flip regimes. Note that this is a special case, since we have a closed form solution which allows us to compute the switching times between regimes explicitly.\n",
    "\n",
    "Now let's look at the discrete system."
   ]
  },
  {
   "cell_type": "code",
   "execution_count": 4,
   "metadata": {},
   "outputs": [
    {
     "data": {
      "application/vnd.jupyter.widget-view+json": {
       "model_id": "5f1ec2f972d04608aaea98762b2be3f7",
       "version_major": 2,
       "version_minor": 0
      },
      "text/plain": [
       "Canvas(toolbar=Toolbar(toolitems=[('Home', 'Reset original view', 'home', 'home'), ('Back', 'Back to previous …"
      ]
     },
     "metadata": {},
     "output_type": "display_data"
    },
    {
     "data": {
      "text/plain": [
       "0"
      ]
     },
     "execution_count": 4,
     "metadata": {},
     "output_type": "execute_result"
    }
   ],
   "source": [
    "prange = (.5, 2)\n",
    "pinit = 1.99\n",
    "timesteps = 100\n",
    "x = np.linspace(0,2*math.pi, timesteps+1)\n",
    "\n",
    "def fun(x, p):\n",
    "    if x < p:\n",
    "        return -x\n",
    "    else:\n",
    "        return 0\n",
    "\n",
    "def solution2(p, dt=2*math.pi/timesteps):\n",
    "    x = [0, 2]\n",
    "    out = [x[0]]\n",
    "    for i in range(timesteps):\n",
    "         dx = fun(x[0], p)\n",
    "         x[0] = x[0]+dt*x[1]\n",
    "         x[1] = x[1] + dt*dx\n",
    "         out.append(x[0])\n",
    "    return out\n",
    "\n",
    "def objective2(out, dt=2*math.pi/timesteps):\n",
    "    return sum(out)*dt\n",
    "\n",
    "def obj_and_grad2(p):\n",
    "    obj = objective2(solution2(p))\n",
    "    return obj, (objective2(solution2(p+1e-8))-obj)/1e-8\n",
    "\n",
    "gs = gridspec.GridSpec(2,2)\n",
    "fig = plt.figure(figsize=(10,10))\n",
    "ax = plt.subplot(gs[0,:])\n",
    "ax2, ax3 = plt.subplot(gs[1,0]), plt.subplot(gs[1,1])\n",
    "plt.subplots_adjust(bottom = .2)\n",
    "x2 = np.linspace(prange[0], prange[1], 10000)\n",
    "objlist = []\n",
    "gradlist = []\n",
    "for p in x2:\n",
    "    obj, grad = obj_and_grad2(p)\n",
    "    objlist.append(obj)\n",
    "    gradlist.append(grad)\n",
    "obj, grad = obj_and_grad2(pinit)\n",
    "out = solution2(pinit)\n",
    "artist1, = ax.plot(x, out)\n",
    "artist5, = ax.plot((0, 2*math.pi), (pinit, pinit), 'C0--', alpha=.2)\n",
    "artist22, = ax.plot(x, out, 'k.')\n",
    "ax2.plot(x2, objlist, 'k.', markersize=2)\n",
    "ax3.plot(x2, gradlist, 'k.', markersize=2)\n",
    "artist33, = ax2.plot(pinit, obj, 'r.')\n",
    "artist44, = ax3.plot(pinit, grad, 'r.')\n",
    "ax.set_ylim([-2, 10])\n",
    "ax2.set_ylabel('objective')\n",
    "ax3.set_ylabel('gradient')\n",
    "ax.set_ylabel('x(t)')\n",
    "ax.set_xlabel('t')\n",
    "ax.set_xlabel\n",
    "axp2 = plt.axes([.15, 0.1, 0.65, 0.03])\n",
    "\n",
    "def update(val):\n",
    "    out = solution2(val)\n",
    "    artist1.set_ydata(out)\n",
    "    artist22.set_ydata(out)\n",
    "    obj, grad = obj_and_grad2(val)\n",
    "    artist33.set_xdata(val)\n",
    "    artist44.set_xdata(val)\n",
    "    artist33.set_ydata(obj)\n",
    "    artist44.set_ydata(grad)\n",
    "    artist5.set_ydata((val,val))\n",
    "    fig.canvas.draw_idle()\n",
    "\n",
    "p_values2 = Slider(axp2, 'p', prange[0], prange[1]+.2, valfmt='%.9f', valinit=pinit)\n",
    "p_values2.on_changed(update)"
   ]
  },
  {
   "cell_type": "markdown",
   "metadata": {},
   "source": [
    "What happened to our gradient! Did we make a mistake? \n",
    "The problem is that for this system, the parameter $p$ only appears in the switching condition: neither of the two model regimes, $-x$ and $0$, depend on $p$ in any way. If you zoom in on the $x(t)$ plot around where the regime switches, and try changing the parameters, you can see this for yourself. If you change p, and the switching condition (the dashed line) stays between the discrete timesteps (the black dots), nothing changes! Everything stays exactly the same - meaning we have 0 gradient everywhere. In this case, we end up with an objective that looks like a floor function. \n",
    "\n",
    "This type of model can appear in practice, for example, for a lane changing model. The model outputs some discrete decisions, for example, to make a lane change or to stay in lane. In this case, the lane changing parameters might only appear in the switching conditions, meaning this type of model will have 0 gradient everywhere. An idea to solve this is to convert the model to output probabilities of changing lanes - this way the model output will have sensitivity with respect to the parameter."
   ]
  },
  {
   "cell_type": "markdown",
   "metadata": {},
   "source": [
    "## Example 3\n",
    "The first two examples showed what can go wrong - now let's look at an example where gradient based optimization would work well.\n",
    "$$ \\dot x = \\begin{cases} \n",
    " -px & x > 2 \\\\ \n",
    "  -px - 2 & x \\leq 2 \\\\ \n",
    "  \\end{cases}$$\n",
    "In this case, both regimes have sensitivity to the parameters, discontinuities are small, and the objective ends up being quasiconvex (however, we don't have lipschitz continuous, that's because the model has discontinuities between regimes. Meaning, $-px$ and $-px-2$ aren't equal when we switch regimes at $x=2$). "
   ]
  },
  {
   "cell_type": "code",
   "execution_count": 5,
   "metadata": {},
   "outputs": [
    {
     "data": {
      "application/vnd.jupyter.widget-view+json": {
       "model_id": "4ef02477cde84a2b8accf0bdd369f0a3",
       "version_major": 2,
       "version_minor": 0
      },
      "text/plain": [
       "Canvas(toolbar=Toolbar(toolitems=[('Home', 'Reset original view', 'home', 'home'), ('Back', 'Back to previous …"
      ]
     },
     "metadata": {},
     "output_type": "display_data"
    },
    {
     "data": {
      "text/plain": [
       "0"
      ]
     },
     "execution_count": 5,
     "metadata": {},
     "output_type": "execute_result"
    }
   ],
   "source": [
    "prange = (0, 1)\n",
    "pinit = .2\n",
    "timesteps = 100\n",
    "x = np.linspace(0,2, timesteps+1)\n",
    "\n",
    "def fun(x, p):\n",
    "    return -p*x if x > 2 else -p*x-2\n",
    "\n",
    "def solution2(p, timesteps=timesteps, dt = 2/timesteps):\n",
    "    x = 3\n",
    "    out = [x]\n",
    "    for i in range(timesteps):\n",
    "        x = x + dt*fun(x, p)\n",
    "        out.append(x)\n",
    "    return out\n",
    "\n",
    "def objective2(out):\n",
    "    return sum(out)*2/timesteps\n",
    "\n",
    "def obj_and_grad2(p):\n",
    "    obj = objective2(solution2(p))\n",
    "    return obj, (objective2(solution2(p+1e-8))-obj)/1e-8\n",
    "\n",
    "gs = gridspec.GridSpec(2,2)\n",
    "fig = plt.figure(figsize=(10,10))\n",
    "ax = plt.subplot(gs[0,:])\n",
    "ax2, ax3 = plt.subplot(gs[1,0]), plt.subplot(gs[1,1])\n",
    "plt.subplots_adjust(bottom = .2)\n",
    "x2 = np.linspace(prange[0], prange[1], 10000)\n",
    "objlist = []\n",
    "gradlist = []\n",
    "for p in x2:\n",
    "    obj, grad = obj_and_grad2(p)\n",
    "    objlist.append(obj)\n",
    "    gradlist.append(grad)\n",
    "obj, grad = obj_and_grad2(pinit)\n",
    "out = solution2(pinit)\n",
    "artist1, = ax.plot(x, out)\n",
    "artist5, = ax.plot((0, 2), (2, 2), 'C0--', alpha=.2)\n",
    "artist22, = ax.plot(x, out, 'k.')\n",
    "ax2.plot(x2, objlist, 'k.', markersize=2)\n",
    "ax3.plot(x2, gradlist, 'k.', markersize=2)\n",
    "artist33, = ax2.plot(pinit, obj, 'r.')\n",
    "artist44, = ax3.plot(pinit, grad, 'r.')\n",
    "ax2.set_ylabel('objective')\n",
    "ax3.set_ylabel('gradient')\n",
    "ax.set_ylabel('x(t)')\n",
    "ax.set_xlabel('t')\n",
    "ax.set_xlabel\n",
    "ax.set_ylim([-2, 3.2])\n",
    "axp2 = plt.axes([.15, 0.1, 0.65, 0.03])\n",
    "\n",
    "def update(val):\n",
    "    out = solution2(val)\n",
    "    artist1.set_ydata(out)\n",
    "    artist22.set_ydata(out)\n",
    "    obj, grad = obj_and_grad2(val)\n",
    "    artist33.set_xdata(val)\n",
    "    artist44.set_xdata(val)\n",
    "    artist33.set_ydata(obj)\n",
    "    artist44.set_ydata(grad)\n",
    "    fig.canvas.draw_idle()\n",
    "\n",
    "p_values2 = Slider(axp2, 'p', prange[0], prange[1]+.2, valfmt='%.9f', valinit=pinit)\n",
    "p_values2.on_changed(update)"
   ]
  },
  {
   "cell_type": "markdown",
   "metadata": {},
   "source": [
    "## A real example (3 minute video)\n",
    "https://www.youtube.com/watch?v=fJ5YznNWPyE\n",
    "\n",
    "\n",
    "## Pre-print (accepted to transportation science)\n",
    "https://arxiv.org/abs/1901.06452\n"
   ]
  }
 ],
 "metadata": {
  "kernelspec": {
   "display_name": "Python 3",
   "language": "python",
   "name": "python3"
  },
  "language_info": {
   "codemirror_mode": {
    "name": "ipython",
    "version": 3
   },
   "file_extension": ".py",
   "mimetype": "text/x-python",
   "name": "python",
   "nbconvert_exporter": "python",
   "pygments_lexer": "ipython3",
   "version": "3.7.3"
  }
 },
 "nbformat": 4,
 "nbformat_minor": 4
}
